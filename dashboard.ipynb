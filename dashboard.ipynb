{
 "cells": [
  {
   "cell_type": "code",
   "execution_count": null,
   "id": "dynamic-spyware",
   "metadata": {},
   "outputs": [],
   "source": [
    "from ipywidgets import widgets,interact,interact_manual\n",
    "from IPython.display import display, clear_output, Markdown, HTML\n",
    "import Start_Process\n",
    "import numpy as np\n",
    "import pandas as pd\n",
    "from imutils import build_montages\n",
    "from Utils import Data_Searches as ds\n",
    "import os"
   ]
  },
  {
   "cell_type": "code",
   "execution_count": null,
   "id": "organizational-barbados",
   "metadata": {},
   "outputs": [],
   "source": [
    "def create_menu(data : list, description : str = \"Cluster\"):\n",
    "    return widgets.Dropdown(\n",
    "       options=data,\n",
    "       value=data[0],\n",
    "       description=description)"
   ]
  },
  {
   "cell_type": "markdown",
   "id": "challenging-jewelry",
   "metadata": {},
   "source": [
    "<h1>Listar Casos</h1>"
   ]
  },
  {
   "cell_type": "code",
   "execution_count": null,
   "id": "united-smooth",
   "metadata": {},
   "outputs": [],
   "source": [
    "casos_list = Start_Process.get_casos()\n",
    "nome_do_caso = 0\n",
    "nome_do_caso = create_menu(casos_list, \"Casos\")\n",
    "print(\"escolha o caso enviado\")\n",
    "widgets.VBox([nome_do_caso])\n"
   ]
  },
  {
   "cell_type": "markdown",
   "id": "behind-jacob",
   "metadata": {},
   "source": [
    "<h2>Gerar dados</h2>"
   ]
  },
  {
   "cell_type": "code",
   "execution_count": null,
   "id": "stainless-blackberry",
   "metadata": {},
   "outputs": [],
   "source": [
    "df = Start_Process.comecar_processamento(nome_do_caso.value)"
   ]
  },
  {
   "cell_type": "code",
   "execution_count": null,
   "id": "trained-integration",
   "metadata": {},
   "outputs": [],
   "source": [
    "if len(df) != 0:\n",
    "    conection_df = Start_Process.generate_cluster_connections(df)\n",
    "else:\n",
    "    print(\"Escreva o nome do caso corretamente\")"
   ]
  },
  {
   "cell_type": "markdown",
   "id": "basic-taiwan",
   "metadata": {},
   "source": [
    "<h1> Principais faces dos clusters </h1>"
   ]
  },
  {
   "cell_type": "code",
   "execution_count": null,
   "id": "numerical-mongolia",
   "metadata": {},
   "outputs": [],
   "source": [
    "cols = len(df) if len(df) < 6 else 6"
   ]
  },
  {
   "cell_type": "code",
   "execution_count": null,
   "id": "decimal-minimum",
   "metadata": {},
   "outputs": [],
   "source": [
    "ds.show_clusters_main_face(nome_do_caso.value, tamanho_da_imagem = (1920, 1080), cols = cols,\n",
    "                             top_distance = 0.6)"
   ]
  },
  {
   "cell_type": "markdown",
   "id": "cosmetic-carry",
   "metadata": {},
   "source": [
    "<h2>Selecionar cluster</h2>"
   ]
  },
  {
   "cell_type": "code",
   "execution_count": null,
   "id": "driven-fusion",
   "metadata": {
    "scrolled": true
   },
   "outputs": [],
   "source": [
    "selected_cluster = 0\n",
    "selected_cluster = create_menu(np.unique(df[\"cluster\"].values).tolist())\n",
    "print(\"escolha o cluster para ser mostrado as faces\")\n",
    "widgets.VBox([selected_cluster])"
   ]
  },
  {
   "cell_type": "markdown",
   "id": "quarterly-greene",
   "metadata": {},
   "source": [
    "<h2>Mostrar exemplos de Imagens do cluster selecionado</h2>"
   ]
  },
  {
   "cell_type": "code",
   "execution_count": null,
   "id": "better-mouse",
   "metadata": {
    "scrolled": false
   },
   "outputs": [],
   "source": [
    "ds.show_cluster_random_faces(df, selected_cluster.value)"
   ]
  },
  {
   "cell_type": "markdown",
   "id": "sweet-carolina",
   "metadata": {},
   "source": [
    "<h2>Mostrar Conexões do cluster selecionado</h2>"
   ]
  },
  {
   "cell_type": "code",
   "execution_count": null,
   "id": "addressed-infection",
   "metadata": {},
   "outputs": [],
   "source": [
    "ds.show_cluster_connections(selected_cluster.value, nome_do_caso.value, conection_df,tamanho_da_imagem = (1920,1080),\n",
    "                            top_distance = 0.6\n",
    "                            ,  cols = cols)"
   ]
  },
  {
   "cell_type": "code",
   "execution_count": null,
   "id": "democratic-tension",
   "metadata": {},
   "outputs": [],
   "source": []
  },
  {
   "cell_type": "code",
   "execution_count": null,
   "id": "impressed-mandate",
   "metadata": {},
   "outputs": [],
   "source": []
  }
 ],
 "metadata": {
  "kernelspec": {
   "display_name": "Python 3",
   "language": "python",
   "name": "python3"
  },
  "language_info": {
   "codemirror_mode": {
    "name": "ipython",
    "version": 3
   },
   "file_extension": ".py",
   "mimetype": "text/x-python",
   "name": "python",
   "nbconvert_exporter": "python",
   "pygments_lexer": "ipython3",
   "version": "3.8.7"
  }
 },
 "nbformat": 4,
 "nbformat_minor": 5
}
